{
 "cells": [
  {
   "cell_type": "code",
   "execution_count": null,
   "metadata": {},
   "outputs": [],
   "source": [
    "import matplotlib.pyplot as plt\n",
    "%matplotlib inline"
   ]
  },
  {
   "cell_type": "code",
   "execution_count": null,
   "metadata": {},
   "outputs": [],
   "source": [
    "import numpy as np"
   ]
  },
  {
   "cell_type": "code",
   "execution_count": null,
   "metadata": {},
   "outputs": [],
   "source": [
    "## Simple Example\n",
    "\n",
    "x=np.arange(0,10)\n",
    "y=np.arange(11,21)"
   ]
  },
  {
   "cell_type": "code",
   "execution_count": null,
   "metadata": {},
   "outputs": [],
   "source": [
    "a=np.arange(40,50)\n",
    "b=np.arange(50,60)"
   ]
  },
  {
   "cell_type": "code",
   "execution_count": null,
   "metadata": {},
   "outputs": [],
   "source": [
    "##Plotting using matplotlib\n",
    "\n",
    "##plt scatter\n",
    "\n",
    "plt.scatter(x,y,c='b')\n",
    "plt.xlabel('xaxis')\n",
    "plt.ylabel('yaxis')\n",
    "plt.title('3d diagram')"
   ]
  },
  {
   "cell_type": "code",
   "execution_count": null,
   "metadata": {},
   "outputs": [],
   "source": [
    "plt.scatter(a,b,c='b')\n",
    "plt.xlabel('xaxis')\n",
    "plt.ylabel('yaxis')\n",
    "plt.title('4d,diagram')"
   ]
  },
  {
   "cell_type": "code",
   "execution_count": null,
   "metadata": {},
   "outputs": [],
   "source": [
    "y=x*x"
   ]
  },
  {
   "cell_type": "code",
   "execution_count": null,
   "metadata": {},
   "outputs": [],
   "source": [
    "plt.plot(x,y,'r*',linestyle='dashed',linewidth=2,markersize=12)"
   ]
  },
  {
   "cell_type": "code",
   "execution_count": null,
   "metadata": {},
   "outputs": [],
   "source": [
    "## Creating Subplots\n",
    "\n",
    "plt.subplot(2,2,1)\n",
    "plt.plot(a,b,'r--')\n",
    "plt.subplot(2,2,2)\n",
    "plt.plot(x,y,'g*')\n",
    "plt.subplot(2,2,3)\n",
    "plt.plot(x,y,'b*')\n",
    "plt.subplot(2,2,4)\n",
    "plt.plot(x,y,'go')"
   ]
  },
  {
   "cell_type": "code",
   "execution_count": null,
   "metadata": {},
   "outputs": [],
   "source": [
    "x = np.arange(1,12)\n",
    "y = 3 * x + 10\n",
    "plt.xlabel('xaxis2')\n",
    "plt.ylabel('yaxis3')\n",
    "plt.title('4d')"
   ]
  },
  {
   "cell_type": "code",
   "execution_count": null,
   "metadata": {},
   "outputs": [],
   "source": [
    "plt.plot(x,y)\n"
   ]
  },
  {
   "cell_type": "code",
   "execution_count": null,
   "metadata": {},
   "outputs": [],
   "source": [
    "np.pi"
   ]
  },
  {
   "cell_type": "code",
   "execution_count": null,
   "metadata": {},
   "outputs": [],
   "source": [
    "## Compute the X and Y coordinates for points on a sine curve\n",
    "\n",
    "x = np.arange(0,4* np.pi,0.5)\n",
    "y = np.sin(x)"
   ]
  },
  {
   "cell_type": "code",
   "execution_count": null,
   "metadata": {},
   "outputs": [],
   "source": [
    "plt.title('sine wave form')\n",
    "plt.plot(x,y)"
   ]
  },
  {
   "cell_type": "code",
   "execution_count": null,
   "metadata": {},
   "outputs": [],
   "source": [
    "#subplot()\n",
    "# Compute the x and y coordiantes for points on sine and cosine curves\n",
    "\n",
    "\n",
    "x = np.arange(0,5 * np.pi, 0.1)\n",
    "y_sin = np.sin(x)\n",
    "y_cos = np.cos(x)\n",
    "\n",
    "# set up a subplot grid that has height 2 and width 1,\n",
    "# and set the first such subplot as active.\n",
    "\n",
    "\n",
    "plt.subplot(2,1,1)\n",
    "# make the first plot\n",
    "plt.plot(x,y_sin,'r--')\n",
    "plt.title('sine')\n",
    "\n",
    "# set the second as active, and make the second plot.\n",
    "plt.subplot(2,1,2)\n",
    "plt.plot(x,y_cos,'b--')\n",
    "plt.title('cosine')\n",
    "\n",
    "# show the figure.\n",
    "plt.show()"
   ]
  },
  {
   "cell_type": "code",
   "execution_count": null,
   "metadata": {},
   "outputs": [],
   "source": [
    "# Bar plot\n",
    "\n",
    "x = [2,8,10]\n",
    "y = [11,24,9]\n",
    "\n",
    "\n",
    "x2 = [4,15,18]\n",
    "y2 = [3,12,33]\n",
    "\n",
    "plt.bar(x,y)\n",
    "plt.bar(x2,y2, color = 'g')\n",
    "plt.title('Bar graph')\n",
    "plt.xlabel('xaxis')\n",
    "plt.ylabel('yaxis')\n",
    "\n",
    "plt.show()"
   ]
  },
  {
   "cell_type": "code",
   "execution_count": null,
   "metadata": {},
   "outputs": [],
   "source": [
    "# Histograms\n",
    "import numpy as np\n",
    "a = np.array([22,3,45,54,46,94,99,48,34,89])\n",
    "plt.hist(a)\n",
    "plt.title('histogram')\n"
   ]
  },
  {
   "cell_type": "code",
   "execution_count": null,
   "metadata": {},
   "outputs": [],
   "source": [
    "# Box plot using matplotlib\n",
    "\n",
    "data = [np.random.normal(0, std, 100) for std in range(0,5)]\n",
    "\n",
    "#rectangular box plot\n",
    "plt.boxplot(data,vert=True,patch_artist=True);"
   ]
  },
  {
   "cell_type": "code",
   "execution_count": null,
   "metadata": {},
   "outputs": [],
   "source": [
    "data"
   ]
  },
  {
   "cell_type": "code",
   "execution_count": null,
   "metadata": {},
   "outputs": [],
   "source": [
    "#pie chart \n",
    "\n",
    "#data to plot\n",
    "labels = 'python','c','ruby','java'\n",
    "sizes = [215,130,345,450]\n",
    "colors = ['gold','yellowgreen','lightcoral','lightskyblue']\n",
    "explode = (0.5,0,0,0)\n",
    "\n",
    "#plot \n",
    "\n",
    "plt.pie(sizes, explode=explode,labels=labels,colors=colors,\n",
    "       autopct='%1.1f%%',shadow=False)\n",
    "\n",
    "plt.axis('equal')\n",
    "plt.show()"
   ]
  },
  {
   "cell_type": "code",
   "execution_count": null,
   "metadata": {},
   "outputs": [],
   "source": []
  },
  {
   "cell_type": "code",
   "execution_count": null,
   "metadata": {},
   "outputs": [],
   "source": []
  },
  {
   "cell_type": "code",
   "execution_count": null,
   "metadata": {},
   "outputs": [],
   "source": []
  }
 ],
 "metadata": {
  "kernelspec": {
   "display_name": "Python 3",
   "language": "python",
   "name": "python3"
  },
  "language_info": {
   "codemirror_mode": {
    "name": "ipython",
    "version": 3
   },
   "file_extension": ".py",
   "mimetype": "text/x-python",
   "name": "python",
   "nbconvert_exporter": "python",
   "pygments_lexer": "ipython3",
   "version": "3.7.6"
  }
 },
 "nbformat": 4,
 "nbformat_minor": 4
}
